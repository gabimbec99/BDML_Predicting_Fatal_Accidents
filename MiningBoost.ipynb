{
 "cells": [
  {
   "cell_type": "markdown",
   "id": "f0c01ac4-44de-4b70-8297-d411bacc693c",
   "metadata": {},
   "source": [
    "# Importaciones Iniciales"
   ]
  },
  {
   "cell_type": "code",
   "execution_count": 6,
   "id": "8e6cd92b-2ea1-4aec-8c2f-4af6320235fa",
   "metadata": {
    "tags": []
   },
   "outputs": [],
   "source": [
    "import xgboost as xgb\n",
    "import pandas as pd\n",
    "from tqdm import tqdm\n",
    "import pickle\n",
    "from sklearn.model_selection import train_test_split\n",
    "from sklearn import metrics\n",
    "import matplotlib.pyplot as plt\n",
    "import numpy as np\n",
    "import seaborn as sns\n",
    "from sklearn.metrics import mean_squared_error\n",
    "from sklearn.model_selection import GridSearchCV\n",
    "import os"
   ]
  },
  {
   "cell_type": "code",
   "execution_count": 46,
   "id": "395e427a-d5f0-4f98-8e46-d4a6a0ddcba0",
   "metadata": {},
   "outputs": [
    {
     "name": "stdout",
     "output_type": "stream",
     "text": [
      "Requirement already satisfied: xgboost in c:\\users\\mrozo\\anaconda3\\lib\\site-packages (1.7.2)\n",
      "Requirement already satisfied: scipy in c:\\users\\mrozo\\anaconda3\\lib\\site-packages (from xgboost) (1.7.1)\n",
      "Requirement already satisfied: numpy in c:\\users\\mrozo\\anaconda3\\lib\\site-packages (from xgboost) (1.20.3)\n",
      "Collecting shap\n",
      "  Downloading shap-0.41.0-cp39-cp39-win_amd64.whl (435 kB)\n",
      "Requirement already satisfied: numpy in c:\\users\\mrozo\\anaconda3\\lib\\site-packages (from shap) (1.20.3)\n",
      "Requirement already satisfied: tqdm>4.25.0 in c:\\users\\mrozo\\anaconda3\\lib\\site-packages (from shap) (4.62.3)\n",
      "Requirement already satisfied: scikit-learn in c:\\users\\mrozo\\anaconda3\\lib\\site-packages (from shap) (0.24.2)\n",
      "Requirement already satisfied: cloudpickle in c:\\users\\mrozo\\anaconda3\\lib\\site-packages (from shap) (2.0.0)\n",
      "Collecting slicer==0.0.7\n",
      "  Downloading slicer-0.0.7-py3-none-any.whl (14 kB)\n",
      "Requirement already satisfied: scipy in c:\\users\\mrozo\\anaconda3\\lib\\site-packages (from shap) (1.7.1)\n",
      "Requirement already satisfied: numba in c:\\users\\mrozo\\anaconda3\\lib\\site-packages (from shap) (0.54.1)\n",
      "Requirement already satisfied: packaging>20.9 in c:\\users\\mrozo\\anaconda3\\lib\\site-packages (from shap) (21.0)\n",
      "Requirement already satisfied: pandas in c:\\users\\mrozo\\anaconda3\\lib\\site-packages (from shap) (1.3.4)\n",
      "Requirement already satisfied: pyparsing>=2.0.2 in c:\\users\\mrozo\\anaconda3\\lib\\site-packages (from packaging>20.9->shap) (3.0.4)\n",
      "Requirement already satisfied: colorama in c:\\users\\mrozo\\anaconda3\\lib\\site-packages (from tqdm>4.25.0->shap) (0.4.4)\n",
      "Requirement already satisfied: setuptools in c:\\users\\mrozo\\anaconda3\\lib\\site-packages (from numba->shap) (58.0.4)\n",
      "Requirement already satisfied: llvmlite<0.38,>=0.37.0rc1 in c:\\users\\mrozo\\anaconda3\\lib\\site-packages (from numba->shap) (0.37.0)\n",
      "Requirement already satisfied: python-dateutil>=2.7.3 in c:\\users\\mrozo\\anaconda3\\lib\\site-packages (from pandas->shap) (2.8.2)\n",
      "Requirement already satisfied: pytz>=2017.3 in c:\\users\\mrozo\\anaconda3\\lib\\site-packages (from pandas->shap) (2021.3)\n",
      "Requirement already satisfied: six>=1.5 in c:\\users\\mrozo\\anaconda3\\lib\\site-packages (from python-dateutil>=2.7.3->pandas->shap) (1.16.0)\n",
      "Requirement already satisfied: joblib>=0.11 in c:\\users\\mrozo\\anaconda3\\lib\\site-packages (from scikit-learn->shap) (1.1.0)\n",
      "Requirement already satisfied: threadpoolctl>=2.0.0 in c:\\users\\mrozo\\anaconda3\\lib\\site-packages (from scikit-learn->shap) (2.2.0)\n",
      "Installing collected packages: slicer, shap\n",
      "Successfully installed shap-0.41.0 slicer-0.0.7\n"
     ]
    }
   ],
   "source": [
    "import sys\n",
    "!{sys.executable} -m pip install xgboost\n",
    "!{sys.executable} -m pip install shap"
   ]
  },
  {
   "cell_type": "markdown",
   "id": "f0bd9519-3c30-4af4-b5c1-109019c9292f",
   "metadata": {
    "tags": []
   },
   "source": [
    "# Mineria de datos: Condiciones climáticas"
   ]
  },
  {
   "cell_type": "code",
   "execution_count": 2,
   "id": "56a66497-94f1-4a53-85e7-d5ed2f3ee9d2",
   "metadata": {},
   "outputs": [
    {
     "name": "stdout",
     "output_type": "stream",
     "text": [
      "Requirement already satisfied: wwo-hist in c:\\users\\mrozo\\anaconda3\\lib\\site-packages (0.0.7)\n"
     ]
    }
   ],
   "source": [
    "import sys\n",
    "!{sys.executable} -m pip install wwo-hist"
   ]
  },
  {
   "cell_type": "code",
   "execution_count": 3,
   "id": "49c1a973-597c-4e2f-ba41-33edf103fceb",
   "metadata": {},
   "outputs": [],
   "source": [
    "import wwo_hist"
   ]
  },
  {
   "cell_type": "code",
   "execution_count": 4,
   "id": "50f1b240-e0ae-4573-879c-627b2e70152a",
   "metadata": {},
   "outputs": [],
   "source": [
    "key='c1e2658f6a64477e8b7232824220912' # API key obtained from https://www.worldweatheronline.com/\n",
    "locations=['bogota'] # list of strings containg US Zipcode, UK Postcode, Canada Postalcode, IP address, Latitude/Longitude (decimal degree) or city name  \n",
    "start='01-01-2021' # date when desired scraping period starts; preferred date format: 'dd-mmm-yyyy'\n",
    "end='31-12-2021' # date when desired scraping period ends; preferred date format: 'dd-mmm-yyyy\n",
    "freq=24 # frequency between observations; possible values 1 (1 hour), 3 (3 hours), 6 (6 hours), 12 (12 hours (day/night)) or 24 (daily averages)\n"
   ]
  },
  {
   "cell_type": "code",
   "execution_count": null,
   "id": "a4851e50-19c8-4925-99eb-d766c59e3d2a",
   "metadata": {},
   "outputs": [],
   "source": [
    "hist_weather_data = wwo_hist.retrieve_hist_data(\n",
    "    api_key=key, \n",
    "    location_list=locations, \n",
    "    start_date=start, \n",
    "    end_date=end, \n",
    "    frequency=freq, \n",
    "    location_label=False, \n",
    "    export_csv=True, \n",
    "    store_df=False\n",
    ")\n",
    "\n"
   ]
  },
  {
   "cell_type": "markdown",
   "id": "bfa6743d-ed48-4d2a-b276-b2ac877a4c66",
   "metadata": {},
   "source": [
    "# XGBoost"
   ]
  },
  {
   "cell_type": "code",
   "execution_count": 7,
   "id": "81786bed-cfdf-4a6e-8678-6f48bea20699",
   "metadata": {},
   "outputs": [],
   "source": [
    "os.chdir('C:\\\\Users\\\\mrozo\\\\OneDrive - Universidad de los Andes\\\\Maestría\\\\Big Data\\\\final')"
   ]
  },
  {
   "cell_type": "code",
   "execution_count": 99,
   "id": "f53ee747-34f3-45c3-b229-bd76653727de",
   "metadata": {},
   "outputs": [],
   "source": [
    "x_train=pd.read_csv(r\"base_final_proyecto (trainx).csv\")\n",
    "\n",
    "y_train=pd.read_csv(r\"base_final_proyecto (trainy).csv\")"
   ]
  },
  {
   "cell_type": "code",
   "execution_count": 88,
   "id": "64c07d0b-2ca2-4013-a80d-440118ad1638",
   "metadata": {},
   "outputs": [
    {
     "data": {
      "text/html": [
       "<div>\n",
       "<style scoped>\n",
       "    .dataframe tbody tr th:only-of-type {\n",
       "        vertical-align: middle;\n",
       "    }\n",
       "\n",
       "    .dataframe tbody tr th {\n",
       "        vertical-align: top;\n",
       "    }\n",
       "\n",
       "    .dataframe thead th {\n",
       "        text-align: right;\n",
       "    }\n",
       "</style>\n",
       "<table border=\"1\" class=\"dataframe\">\n",
       "  <thead>\n",
       "    <tr style=\"text-align: right;\">\n",
       "      <th></th>\n",
       "      <th>maxtempC</th>\n",
       "      <th>mintempC</th>\n",
       "      <th>totalSnow_cm</th>\n",
       "      <th>sunHour</th>\n",
       "      <th>uvIndex</th>\n",
       "      <th>moon_illumination</th>\n",
       "      <th>sunrise</th>\n",
       "      <th>sunset</th>\n",
       "      <th>DewPointC</th>\n",
       "      <th>FeelsLikeC</th>\n",
       "      <th>...</th>\n",
       "      <th>semanas_mes5</th>\n",
       "      <th>semanas_mes6</th>\n",
       "      <th>mes2</th>\n",
       "      <th>mes3</th>\n",
       "      <th>mes4</th>\n",
       "      <th>mes5</th>\n",
       "      <th>mes6</th>\n",
       "      <th>mes7</th>\n",
       "      <th>mes8</th>\n",
       "      <th>mes9</th>\n",
       "    </tr>\n",
       "  </thead>\n",
       "  <tbody>\n",
       "    <tr>\n",
       "      <th>0</th>\n",
       "      <td>20.000000</td>\n",
       "      <td>11.000000</td>\n",
       "      <td>0</td>\n",
       "      <td>8.800000</td>\n",
       "      <td>4.0</td>\n",
       "      <td>0.000000</td>\n",
       "      <td>371.000000</td>\n",
       "      <td>1089.000000</td>\n",
       "      <td>11.0</td>\n",
       "      <td>15.000000</td>\n",
       "      <td>...</td>\n",
       "      <td>0.0</td>\n",
       "      <td>0.0</td>\n",
       "      <td>1.0</td>\n",
       "      <td>0.0</td>\n",
       "      <td>0.0</td>\n",
       "      <td>0.0</td>\n",
       "      <td>0.0</td>\n",
       "      <td>0.0</td>\n",
       "      <td>0.000000</td>\n",
       "      <td>0.000000</td>\n",
       "    </tr>\n",
       "    <tr>\n",
       "      <th>1</th>\n",
       "      <td>17.000000</td>\n",
       "      <td>12.000000</td>\n",
       "      <td>0</td>\n",
       "      <td>7.400000</td>\n",
       "      <td>3.0</td>\n",
       "      <td>8.000000</td>\n",
       "      <td>362.000000</td>\n",
       "      <td>1088.000000</td>\n",
       "      <td>12.0</td>\n",
       "      <td>14.000000</td>\n",
       "      <td>...</td>\n",
       "      <td>0.0</td>\n",
       "      <td>0.0</td>\n",
       "      <td>0.0</td>\n",
       "      <td>1.0</td>\n",
       "      <td>0.0</td>\n",
       "      <td>0.0</td>\n",
       "      <td>0.0</td>\n",
       "      <td>0.0</td>\n",
       "      <td>0.000000</td>\n",
       "      <td>0.000000</td>\n",
       "    </tr>\n",
       "    <tr>\n",
       "      <th>2</th>\n",
       "      <td>17.000000</td>\n",
       "      <td>12.000000</td>\n",
       "      <td>0</td>\n",
       "      <td>7.400000</td>\n",
       "      <td>3.0</td>\n",
       "      <td>8.000000</td>\n",
       "      <td>362.000000</td>\n",
       "      <td>1088.000000</td>\n",
       "      <td>12.0</td>\n",
       "      <td>14.000000</td>\n",
       "      <td>...</td>\n",
       "      <td>0.0</td>\n",
       "      <td>0.0</td>\n",
       "      <td>0.0</td>\n",
       "      <td>1.0</td>\n",
       "      <td>0.0</td>\n",
       "      <td>0.0</td>\n",
       "      <td>0.0</td>\n",
       "      <td>0.0</td>\n",
       "      <td>0.000000</td>\n",
       "      <td>0.000000</td>\n",
       "    </tr>\n",
       "    <tr>\n",
       "      <th>3</th>\n",
       "      <td>22.000000</td>\n",
       "      <td>10.000000</td>\n",
       "      <td>0</td>\n",
       "      <td>10.200000</td>\n",
       "      <td>4.0</td>\n",
       "      <td>38.000000</td>\n",
       "      <td>370.000000</td>\n",
       "      <td>1084.000000</td>\n",
       "      <td>9.0</td>\n",
       "      <td>15.000000</td>\n",
       "      <td>...</td>\n",
       "      <td>0.0</td>\n",
       "      <td>0.0</td>\n",
       "      <td>0.0</td>\n",
       "      <td>0.0</td>\n",
       "      <td>0.0</td>\n",
       "      <td>0.0</td>\n",
       "      <td>0.0</td>\n",
       "      <td>0.0</td>\n",
       "      <td>0.000000</td>\n",
       "      <td>0.000000</td>\n",
       "    </tr>\n",
       "    <tr>\n",
       "      <th>4</th>\n",
       "      <td>22.000000</td>\n",
       "      <td>10.000000</td>\n",
       "      <td>0</td>\n",
       "      <td>10.200000</td>\n",
       "      <td>4.0</td>\n",
       "      <td>38.000000</td>\n",
       "      <td>370.000000</td>\n",
       "      <td>1084.000000</td>\n",
       "      <td>9.0</td>\n",
       "      <td>15.000000</td>\n",
       "      <td>...</td>\n",
       "      <td>0.0</td>\n",
       "      <td>0.0</td>\n",
       "      <td>0.0</td>\n",
       "      <td>0.0</td>\n",
       "      <td>0.0</td>\n",
       "      <td>0.0</td>\n",
       "      <td>0.0</td>\n",
       "      <td>0.0</td>\n",
       "      <td>0.000000</td>\n",
       "      <td>0.000000</td>\n",
       "    </tr>\n",
       "    <tr>\n",
       "      <th>...</th>\n",
       "      <td>...</td>\n",
       "      <td>...</td>\n",
       "      <td>...</td>\n",
       "      <td>...</td>\n",
       "      <td>...</td>\n",
       "      <td>...</td>\n",
       "      <td>...</td>\n",
       "      <td>...</td>\n",
       "      <td>...</td>\n",
       "      <td>...</td>\n",
       "      <td>...</td>\n",
       "      <td>...</td>\n",
       "      <td>...</td>\n",
       "      <td>...</td>\n",
       "      <td>...</td>\n",
       "      <td>...</td>\n",
       "      <td>...</td>\n",
       "      <td>...</td>\n",
       "      <td>...</td>\n",
       "      <td>...</td>\n",
       "      <td>...</td>\n",
       "    </tr>\n",
       "    <tr>\n",
       "      <th>61243</th>\n",
       "      <td>18.533075</td>\n",
       "      <td>9.933850</td>\n",
       "      <td>0</td>\n",
       "      <td>8.986770</td>\n",
       "      <td>4.0</td>\n",
       "      <td>12.136176</td>\n",
       "      <td>350.867700</td>\n",
       "      <td>1084.136176</td>\n",
       "      <td>10.0</td>\n",
       "      <td>13.466925</td>\n",
       "      <td>...</td>\n",
       "      <td>0.0</td>\n",
       "      <td>0.0</td>\n",
       "      <td>0.0</td>\n",
       "      <td>0.0</td>\n",
       "      <td>0.0</td>\n",
       "      <td>0.0</td>\n",
       "      <td>0.0</td>\n",
       "      <td>0.0</td>\n",
       "      <td>0.466925</td>\n",
       "      <td>0.533075</td>\n",
       "    </tr>\n",
       "    <tr>\n",
       "      <th>61244</th>\n",
       "      <td>18.562712</td>\n",
       "      <td>9.874577</td>\n",
       "      <td>0</td>\n",
       "      <td>8.974915</td>\n",
       "      <td>4.0</td>\n",
       "      <td>11.810171</td>\n",
       "      <td>350.749153</td>\n",
       "      <td>1083.810171</td>\n",
       "      <td>10.0</td>\n",
       "      <td>13.437288</td>\n",
       "      <td>...</td>\n",
       "      <td>0.0</td>\n",
       "      <td>0.0</td>\n",
       "      <td>0.0</td>\n",
       "      <td>0.0</td>\n",
       "      <td>0.0</td>\n",
       "      <td>0.0</td>\n",
       "      <td>0.0</td>\n",
       "      <td>0.0</td>\n",
       "      <td>0.437288</td>\n",
       "      <td>0.562712</td>\n",
       "    </tr>\n",
       "    <tr>\n",
       "      <th>61245</th>\n",
       "      <td>18.928194</td>\n",
       "      <td>9.143611</td>\n",
       "      <td>0</td>\n",
       "      <td>8.828722</td>\n",
       "      <td>4.0</td>\n",
       "      <td>7.789862</td>\n",
       "      <td>349.287222</td>\n",
       "      <td>1079.789862</td>\n",
       "      <td>10.0</td>\n",
       "      <td>13.071806</td>\n",
       "      <td>...</td>\n",
       "      <td>0.0</td>\n",
       "      <td>0.0</td>\n",
       "      <td>0.0</td>\n",
       "      <td>0.0</td>\n",
       "      <td>0.0</td>\n",
       "      <td>0.0</td>\n",
       "      <td>0.0</td>\n",
       "      <td>0.0</td>\n",
       "      <td>0.071806</td>\n",
       "      <td>0.928194</td>\n",
       "    </tr>\n",
       "    <tr>\n",
       "      <th>61246</th>\n",
       "      <td>18.999277</td>\n",
       "      <td>9.001446</td>\n",
       "      <td>0</td>\n",
       "      <td>8.800289</td>\n",
       "      <td>4.0</td>\n",
       "      <td>7.007953</td>\n",
       "      <td>349.002892</td>\n",
       "      <td>1079.007953</td>\n",
       "      <td>10.0</td>\n",
       "      <td>13.000723</td>\n",
       "      <td>...</td>\n",
       "      <td>0.0</td>\n",
       "      <td>0.0</td>\n",
       "      <td>0.0</td>\n",
       "      <td>0.0</td>\n",
       "      <td>0.0</td>\n",
       "      <td>0.0</td>\n",
       "      <td>0.0</td>\n",
       "      <td>0.0</td>\n",
       "      <td>0.000723</td>\n",
       "      <td>0.999277</td>\n",
       "    </tr>\n",
       "    <tr>\n",
       "      <th>61247</th>\n",
       "      <td>18.098381</td>\n",
       "      <td>10.803239</td>\n",
       "      <td>0</td>\n",
       "      <td>9.160648</td>\n",
       "      <td>4.0</td>\n",
       "      <td>16.917812</td>\n",
       "      <td>352.606477</td>\n",
       "      <td>1088.917812</td>\n",
       "      <td>10.0</td>\n",
       "      <td>13.901619</td>\n",
       "      <td>...</td>\n",
       "      <td>0.0</td>\n",
       "      <td>0.0</td>\n",
       "      <td>0.0</td>\n",
       "      <td>0.0</td>\n",
       "      <td>0.0</td>\n",
       "      <td>0.0</td>\n",
       "      <td>0.0</td>\n",
       "      <td>0.0</td>\n",
       "      <td>0.901619</td>\n",
       "      <td>0.098381</td>\n",
       "    </tr>\n",
       "  </tbody>\n",
       "</table>\n",
       "<p>61248 rows × 203 columns</p>\n",
       "</div>"
      ],
      "text/plain": [
       "        maxtempC   mintempC  totalSnow_cm    sunHour  uvIndex  \\\n",
       "0      20.000000  11.000000             0   8.800000      4.0   \n",
       "1      17.000000  12.000000             0   7.400000      3.0   \n",
       "2      17.000000  12.000000             0   7.400000      3.0   \n",
       "3      22.000000  10.000000             0  10.200000      4.0   \n",
       "4      22.000000  10.000000             0  10.200000      4.0   \n",
       "...          ...        ...           ...        ...      ...   \n",
       "61243  18.533075   9.933850             0   8.986770      4.0   \n",
       "61244  18.562712   9.874577             0   8.974915      4.0   \n",
       "61245  18.928194   9.143611             0   8.828722      4.0   \n",
       "61246  18.999277   9.001446             0   8.800289      4.0   \n",
       "61247  18.098381  10.803239             0   9.160648      4.0   \n",
       "\n",
       "       moon_illumination     sunrise       sunset  DewPointC  FeelsLikeC  ...  \\\n",
       "0               0.000000  371.000000  1089.000000       11.0   15.000000  ...   \n",
       "1               8.000000  362.000000  1088.000000       12.0   14.000000  ...   \n",
       "2               8.000000  362.000000  1088.000000       12.0   14.000000  ...   \n",
       "3              38.000000  370.000000  1084.000000        9.0   15.000000  ...   \n",
       "4              38.000000  370.000000  1084.000000        9.0   15.000000  ...   \n",
       "...                  ...         ...          ...        ...         ...  ...   \n",
       "61243          12.136176  350.867700  1084.136176       10.0   13.466925  ...   \n",
       "61244          11.810171  350.749153  1083.810171       10.0   13.437288  ...   \n",
       "61245           7.789862  349.287222  1079.789862       10.0   13.071806  ...   \n",
       "61246           7.007953  349.002892  1079.007953       10.0   13.000723  ...   \n",
       "61247          16.917812  352.606477  1088.917812       10.0   13.901619  ...   \n",
       "\n",
       "       semanas_mes5  semanas_mes6  mes2  mes3  mes4  mes5  mes6  mes7  \\\n",
       "0               0.0           0.0   1.0   0.0   0.0   0.0   0.0   0.0   \n",
       "1               0.0           0.0   0.0   1.0   0.0   0.0   0.0   0.0   \n",
       "2               0.0           0.0   0.0   1.0   0.0   0.0   0.0   0.0   \n",
       "3               0.0           0.0   0.0   0.0   0.0   0.0   0.0   0.0   \n",
       "4               0.0           0.0   0.0   0.0   0.0   0.0   0.0   0.0   \n",
       "...             ...           ...   ...   ...   ...   ...   ...   ...   \n",
       "61243           0.0           0.0   0.0   0.0   0.0   0.0   0.0   0.0   \n",
       "61244           0.0           0.0   0.0   0.0   0.0   0.0   0.0   0.0   \n",
       "61245           0.0           0.0   0.0   0.0   0.0   0.0   0.0   0.0   \n",
       "61246           0.0           0.0   0.0   0.0   0.0   0.0   0.0   0.0   \n",
       "61247           0.0           0.0   0.0   0.0   0.0   0.0   0.0   0.0   \n",
       "\n",
       "           mes8      mes9  \n",
       "0      0.000000  0.000000  \n",
       "1      0.000000  0.000000  \n",
       "2      0.000000  0.000000  \n",
       "3      0.000000  0.000000  \n",
       "4      0.000000  0.000000  \n",
       "...         ...       ...  \n",
       "61243  0.466925  0.533075  \n",
       "61244  0.437288  0.562712  \n",
       "61245  0.071806  0.928194  \n",
       "61246  0.000723  0.999277  \n",
       "61247  0.901619  0.098381  \n",
       "\n",
       "[61248 rows x 203 columns]"
      ]
     },
     "execution_count": 88,
     "metadata": {},
     "output_type": "execute_result"
    }
   ],
   "source": [
    "x_train"
   ]
  },
  {
   "cell_type": "code",
   "execution_count": 50,
   "id": "15402917-3c70-4538-bc21-2aa486e5bf3b",
   "metadata": {},
   "outputs": [],
   "source": [
    "x_test=pd.read_csv(r\"base_final_proyecto (testx).csv\")\n",
    "\n",
    "y_test=pd.read_csv(r\"base_final_proyecto (testy).csv\")"
   ]
  },
  {
   "cell_type": "markdown",
   "id": "75d18af8-8327-4e04-b88f-97e1327b5ccc",
   "metadata": {},
   "source": [
    "# gridsearch"
   ]
  },
  {
   "cell_type": "code",
   "execution_count": 40,
   "id": "21e3a76e-14c7-4d60-981f-16723d7ea7ea",
   "metadata": {},
   "outputs": [],
   "source": [
    "from xgboost import XGBClassifier, plot_importance"
   ]
  },
  {
   "cell_type": "code",
   "execution_count": 100,
   "id": "b7bf2677-cbcd-44f7-aa32-c36826635f1e",
   "metadata": {},
   "outputs": [
    {
     "name": "stdout",
     "output_type": "stream",
     "text": [
      "Wall time: 5.34 s\n"
     ]
    },
    {
     "data": {
      "text/plain": [
       "XGBRegressor(base_score=0.5, booster='gbtree', callbacks=None,\n",
       "             colsample_bylevel=1, colsample_bynode=1, colsample_bytree=1,\n",
       "             early_stopping_rounds=None, enable_categorical=False,\n",
       "             eval_metric='rmse', feature_types=None, gamma=0, gpu_id=0,\n",
       "             grow_policy='depthwise', importance_type=None,\n",
       "             interaction_constraints='', learning_rate=0.03, max_bin=256,\n",
       "             max_cat_threshold=64, max_cat_to_onehot=4, max_delta_step=0,\n",
       "             max_depth=12, max_leaves=0, min_child_weight=1, missing=nan,\n",
       "             monotone_constraints='()', n_estimators=300, n_jobs=0,\n",
       "             num_parallel_tree=1, predictor='auto', random_state=1440, ...)"
      ]
     },
     "execution_count": 100,
     "metadata": {},
     "output_type": "execute_result"
    }
   ],
   "source": [
    "%%time\n",
    "xgbc_gpu=xgb.XGBRegressor(tree_method='gpu_hist', gpu_id=0, learning_rate=0.03, max_depth=12, seed=1440, eval_metric='rmse', n_estimators=300)\n",
    "xgbc_gpu.fit(x_train, y_train)"
   ]
  },
  {
   "cell_type": "code",
   "execution_count": 101,
   "id": "955f023d-9848-4ae7-b518-3746ab1c8107",
   "metadata": {},
   "outputs": [],
   "source": [
    "sorted_idx = np.argsort(xgbc_gpu.feature_importances_)[::-1]"
   ]
  },
  {
   "cell_type": "code",
   "execution_count": 102,
   "id": "4dcea173-154e-4580-9642-903278f12f91",
   "metadata": {
    "collapsed": true,
    "jupyter": {
     "outputs_hidden": true
    },
    "tags": []
   },
   "outputs": [
    {
     "name": "stdout",
     "output_type": "stream",
     "text": [
      "['TIPOPE', 0.055303477]\n",
      "['mes5', 0.046786938]\n",
      "['CODIGO_CAUSA301', 0.022767618]\n",
      "['mes8', 0.022008605]\n",
      "['dias_semana3', 0.019685281]\n",
      "['semanas_mes4', 0.017599208]\n",
      "['CODIGO_CAUSA306', 0.017284025]\n",
      "['CODIGO_CAUSA116', 0.01616331]\n",
      "['TIPOVI', 0.015714794]\n",
      "['mes4', 0.015570097]\n",
      "['sunset', 0.014567336]\n",
      "['DewPointC', 0.014079093]\n",
      "['visibility', 0.013866222]\n",
      "['LONGITUDHO', 0.013723729]\n",
      "['FeelsLikeC', 0.013611411]\n",
      "['dias_semana6', 0.01338999]\n",
      "['CODIGO_CAUSA139', 0.013003825]\n",
      "['min_dist_cam', 0.012922958]\n",
      "['semanas_mes2', 0.01286886]\n",
      "['winddirDegree', 0.012808606]\n",
      "['humidity', 0.012756448]\n",
      "['dias_semana2', 0.012706699]\n",
      "['MODALIDADPASAJEROS - ESPECIAL ASALARIAD', 0.012659478]\n",
      "['min_dist_sitp', 0.0126333125]\n",
      "['sunHour', 0.012616081]\n",
      "['ANCHOCALZA', 0.012242816]\n",
      "['sunrise', 0.012083268]\n",
      "['CLASE_ACCATROPELLO', 0.012018574]\n",
      "['dias_semana7', 0.011394667]\n",
      "['CLASEMICROBUS', 0.011292897]\n",
      "['cloudcover', 0.011080015]\n",
      "['min_dist_sem', 0.011035808]\n",
      "['mes2', 0.010959163]\n",
      "['PUNTAJE_IP', 0.010917857]\n",
      "['AREACALZAD', 0.010753311]\n",
      "['min_dist_bici', 0.010691462]\n",
      "['WindGustKmph', 0.010205639]\n",
      "['CODIGO_CAUSA112', 0.010186822]\n",
      "['dias_semana5', 0.010105911]\n",
      "['mes3', 0.009878143]\n",
      "['mes9', 0.009823517]\n",
      "['CODIGO_CAUSA411', 0.009763853]\n",
      "['windspeedKmph', 0.00951261]\n",
      "['CODIGO_CAUSA141', 0.009329603]\n",
      "['moon_illumination', 0.009309994]\n",
      "['dias', 0.009285786]\n",
      "['pressure', 0.00909334]\n",
      "['CLASETRACTOCAMION', 0.008964505]\n",
      "['mes6', 0.008853906]\n",
      "['CODIGO_CAUSA102', 0.008532389]\n",
      "['precipMM', 0.00845666]\n",
      "['CODIGO_CAUSA308', 0.008275526]\n",
      "['mean_dist_res', 0.008214194]\n",
      "['CODIGO_CAUSA106', 0.0077857566]\n",
      "['CODIGO_CAUSA132', 0.0077724606]\n",
      "['mintempC', 0.0075415475]\n",
      "['maxtempC', 0.0074357786]\n",
      "['CLASEBUSETA', 0.0074152965]\n",
      "['CODIGO_CAUSA115', 0.007394722]\n",
      "['dias_semana4', 0.0073318724]\n",
      "['uvIndex', 0.0072943005]\n",
      "['CODIGO_CAUSA304', 0.007218495]\n",
      "['MODALIDADPASAJEROS - COLECTIVO', 0.006963291]\n",
      "['CODIGO_CAUSA138', 0.006962008]\n",
      "['CLASE_ACCCAIDA DE OCUPANTE', 0.006939668]\n",
      "['MODALIDADPASAJEROS - ESPECIAL TURISMO', 0.006881141]\n",
      "['semanas_mes3', 0.0067679244]\n",
      "['CLASEBUS', 0.0067371316]\n",
      "['CODIGO_CAUSA101', 0.0064850184]\n",
      "['CODIGO_CAUSA122', 0.0064548105]\n",
      "['semanas_mes6', 0.0063838516]\n",
      "['CODIGO_CAUSA114', 0.006321537]\n",
      "['CLASE_ACCVOLCAMIENTO', 0.0062224846]\n",
      "['CODIGO_CAUSA121', 0.00618324]\n",
      "['HeatIndexC', 0.0060404623]\n",
      "['CODIGO_CAUSA098', 0.0059862114]\n",
      "['CODIGO_CAUSA127', 0.005608411]\n",
      "['CODIGO_CAUSA142', 0.0054781167]\n",
      "['CLASE_ACCCHOQUE', 0.0052313963]\n",
      "['MODALIDADPASAJEROS - MASIVO', 0.0051425835]\n",
      "['ENFUGAS', 0.004762006]\n",
      "['CODIGO_CAUSA134', 0.004504479]\n",
      "['MODALIDADPASAJEROS - ESPECIAL ESCOLAR', 0.0044761687]\n",
      "['CLASEVOLQUETA', 0.004466928]\n",
      "['CODIGO_CAUSA104', 0.004440014]\n",
      "['CODIGO_CAUSA097', 0.004360711]\n",
      "['CODIGO_CAUSA099', 0.0042339065]\n",
      "['CODIGO_CAUSA157', 0.0041851928]\n",
      "['CLASECAMION, FURGON', 0.003630948]\n",
      "['CLASECAMPERO', 0.0035931102]\n",
      "['CODIGO_CAUSA092', 0.0035013594]\n",
      "['CODIGO_CAUSA410', 0.0031768703]\n",
      "['SERVICIOPUBLICO', 0.0031555279]\n",
      "['SERVICIOOFICIAL', 0.0031305603]\n",
      "['TIPOCE', 0.0030525525]\n",
      "['mes7', 0.0030350892]\n",
      "['SERVICIOSIN INFORMACION', 0.002989513]\n",
      "['MODALIDADPASAJEROS - INDIVIDUAL', 0.0028825644]\n",
      "['CODIGO_CAUSA154', 0.0026486237]\n",
      "['CODIGO_CAUSA123', 0.0026389125]\n",
      "['MODALIDADCARGA - EXTRAPESADA', 0.0022973008]\n",
      "['CLASECAMIONETA', 0.0022856318]\n",
      "['CODIGO_CAUSA409', 0.002155798]\n",
      "['CLASEMOTOCICLETA', 0.0019531988]\n",
      "['CLASEBICICLETA', 0.0016995147]\n",
      "['CODIGO_CAUSA404', 0.0015319702]\n",
      "['semanas_mes5', 0.0014227865]\n",
      "['SERVICIOPARTICULAR', 0.0013230846]\n",
      "['CODIGO_CAUSA103', 0.0008844013]\n",
      "['CLASEAUTOMOVIL', 0.0007930553]\n",
      "['TIPOCG', 0.00076857704]\n",
      "['CODIGO_CAUSA401', 0.00019581994]\n",
      "['CLASE_ACCOTRO', 0.00012060316]\n",
      "['CODIGO_CAUSA094', 5.9734837e-05]\n",
      "['MODALIDADCARGA - EXTRADIMENSIONADA', 5.572414e-05]\n",
      "['MODALIDADPASAJEROS - ESPECIAL OCASIONAL', 4.1250416e-05]\n",
      "['CLASEM. INDUSTRIAL', 3.454805e-05]\n",
      "['CODIGO_CAUSA406', 2.8849083e-05]\n",
      "['CODIGO_CAUSA145', 1.7986193e-05]\n",
      "['CODIGO_CAUSA093', 1.6108186e-05]\n",
      "['CODIGO_CAUSA155', 1.5538808e-05]\n",
      "['CODIGO_CAUSA095', 1.4572973e-05]\n",
      "['CODIGO_CAUSA305', 1.3255716e-05]\n",
      "['CODIGO_CAUSA105', 1.16593965e-05]\n",
      "['CODIGO_CAUSA133', 8.279305e-06]\n",
      "['CODIGO_CAUSA090', 7.5002013e-06]\n",
      "['CODIGO_CAUSA143', 6.8036625e-06]\n",
      "['CODIGO_CAUSA119', 5.811675e-06]\n",
      "['TIPOPA', 5.707208e-06]\n",
      "['TIPOVH', 4.9886926e-06]\n",
      "['CODIGO_CAUSA407', 3.4614843e-06]\n",
      "['CODIGO_CAUSA505', 3.083771e-06]\n",
      "['CODIGO_CAUSA303', 2.9783619e-06]\n",
      "['CODIGO_CAUSA137', 2.3934892e-06]\n",
      "['CODIGO_CAUSA113', 1.5699305e-06]\n",
      "['CODIGO_CAUSA118', 8.604915e-07]\n",
      "['CODIGO_CAUSA202', 7.09129e-07]\n",
      "['CODIGO_CAUSA125', 4.7079138e-07]\n",
      "['CODIGO_CAUSA402', 2.0428214e-07]\n",
      "['CODIGO_CAUSA307', 0.0]\n",
      "['CODIGO_CAUSA405', 0.0]\n",
      "['CODIGO_CAUSA217', 0.0]\n",
      "['tempC', 0.0]\n",
      "['CODIGO_CAUSA408', 0.0]\n",
      "['CODIGO_CAUSA502', 0.0]\n",
      "['CODIGO_CAUSA503', 0.0]\n",
      "['WindChillC', 0.0]\n",
      "['IP_RELATIV', 0.0]\n",
      "['CODIGO_CAUSA506', 0.0]\n",
      "['totalSnow_cm', 0.0]\n",
      "['CODIGO_CAUSA302', 0.0]\n",
      "['CODIGO_CAUSA146', 0.0]\n",
      "['CODIGO_CAUSA212', 0.0]\n",
      "['CODIGO_CAUSA110', 0.0]\n",
      "['CODIGO_CAUSA144', 0.0]\n",
      "['CODIGO_CAUSA149', 0.0]\n",
      "['CODIGO_CAUSA140', 0.0]\n",
      "['CODIGO_CAUSA150', 0.0]\n",
      "['CODIGO_CAUSA151', 0.0]\n",
      "['CODIGO_CAUSA131', 0.0]\n",
      "['CODIGO_CAUSA130', 0.0]\n",
      "['CODIGO_CAUSA128', 0.0]\n",
      "['CODIGO_CAUSA126', 0.0]\n",
      "['CODIGO_CAUSA124', 0.0]\n",
      "['CODIGO_CAUSA120', 0.0]\n",
      "['CODIGO_CAUSA152', 0.0]\n",
      "['CODIGO_CAUSA153', 0.0]\n",
      "['CODIGO_CAUSA109', 0.0]\n",
      "['CODIGO_CAUSA211', 0.0]\n",
      "['CODIGO_CAUSA108', 0.0]\n",
      "['CODIGO_CAUSA156', 0.0]\n",
      "['CODIGO_CAUSA096', 0.0]\n",
      "['MODALIDADCARGA - MERCANCIA PELIGROSA', 0.0]\n",
      "['CODIGO_CAUSA201', 0.0]\n",
      "['CODIGO_CAUSA203', 0.0]\n",
      "['CLASENO IDENTIFICADO', 0.0]\n",
      "['CLASEMOTOCICLO', 0.0]\n",
      "['CLASEMOTOCARRO', 0.0]\n",
      "['CODIGO_CAUSA205', 0.0]\n",
      "['CLASEM. AGRICOLA', 0.0]\n",
      "['CLASECUATRIMOTO', 0.0]\n",
      "['CLASE_ACCINCENDIO', 0.0]\n",
      "['CODIGO_CAUSA107', 0.0]\n"
     ]
    }
   ],
   "source": [
    "for index in sorted_idx:\n",
    "    print([x_train.columns[index], xgbc_gpu.feature_importances_[index]]) "
   ]
  },
  {
   "cell_type": "code",
   "execution_count": 42,
   "id": "dd9a5c3a-ad10-4c95-9203-566a16f112c2",
   "metadata": {},
   "outputs": [
    {
     "ename": "NameError",
     "evalue": "name 'pyplot' is not defined",
     "output_type": "error",
     "traceback": [
      "\u001b[1;31m---------------------------------------------------------------------------\u001b[0m",
      "\u001b[1;31mNameError\u001b[0m                                 Traceback (most recent call last)",
      "\u001b[1;32m~\\AppData\\Local\\Temp/ipykernel_17316/10396763.py\u001b[0m in \u001b[0;36m<module>\u001b[1;34m\u001b[0m\n\u001b[0;32m      2\u001b[0m \u001b[1;31m# Xgboost\u001b[0m\u001b[1;33m\u001b[0m\u001b[1;33m\u001b[0m\u001b[0m\n\u001b[0;32m      3\u001b[0m \u001b[0mplot_importance\u001b[0m\u001b[1;33m(\u001b[0m\u001b[0mxgbc_gpu\u001b[0m\u001b[1;33m,\u001b[0m \u001b[0mmax_num_features\u001b[0m \u001b[1;33m=\u001b[0m \u001b[1;36m15\u001b[0m\u001b[1;33m)\u001b[0m\u001b[1;33m\u001b[0m\u001b[1;33m\u001b[0m\u001b[0m\n\u001b[1;32m----> 4\u001b[1;33m \u001b[0mpyplot\u001b[0m\u001b[1;33m.\u001b[0m\u001b[0mshow\u001b[0m\u001b[1;33m(\u001b[0m\u001b[1;33m)\u001b[0m\u001b[1;33m\u001b[0m\u001b[1;33m\u001b[0m\u001b[0m\n\u001b[0m",
      "\u001b[1;31mNameError\u001b[0m: name 'pyplot' is not defined"
     ]
    },
    {
     "data": {
      "image/png": "[encoded data removed]",
      "text/plain": [
       "<Figure size 432x288 with 1 Axes>"
      ]
     },
     "metadata": {
      "needs_background": "light"
     },
     "output_type": "display_data"
    }
   ],
   "source": [
    "#Graficar la importancia de las covariables\n",
    "# Xgboost\n",
    "plot_importance(xgbc_gpu, max_num_features = 15)\n",
    "pyplot.show()"
   ]
  },
  {
   "cell_type": "code",
   "execution_count": 43,
   "id": "2165e7ec-6884-45cf-b110-6177bc246e14",
   "metadata": {},
   "outputs": [
    {
     "ename": "AttributeError",
     "evalue": "'XGBRegressor' object has no attribute 'get_fscore'",
     "output_type": "error",
     "traceback": [
      "\u001b[1;31m---------------------------------------------------------------------------\u001b[0m",
      "\u001b[1;31mAttributeError\u001b[0m                            Traceback (most recent call last)",
      "\u001b[1;32m~\\AppData\\Local\\Temp/ipykernel_17316/2037595514.py\u001b[0m in \u001b[0;36m<module>\u001b[1;34m\u001b[0m\n\u001b[1;32m----> 1\u001b[1;33m \u001b[0mpd\u001b[0m\u001b[1;33m.\u001b[0m\u001b[0mDataFrame\u001b[0m\u001b[1;33m(\u001b[0m\u001b[0mxgbc_gpu\u001b[0m\u001b[1;33m.\u001b[0m\u001b[0mget_fscore\u001b[0m\u001b[1;33m(\u001b[0m\u001b[1;33m)\u001b[0m\u001b[1;33m.\u001b[0m\u001b[0mitems\u001b[0m\u001b[1;33m(\u001b[0m\u001b[1;33m)\u001b[0m\u001b[1;33m,\u001b[0m \u001b[0mcolumns\u001b[0m\u001b[1;33m=\u001b[0m\u001b[1;33m[\u001b[0m\u001b[1;34m'feature'\u001b[0m\u001b[1;33m,\u001b[0m\u001b[1;34m'importance'\u001b[0m\u001b[1;33m]\u001b[0m\u001b[1;33m)\u001b[0m\u001b[1;33m.\u001b[0m\u001b[0msort_values\u001b[0m\u001b[1;33m(\u001b[0m\u001b[1;34m'importance'\u001b[0m\u001b[1;33m,\u001b[0m \u001b[0mascending\u001b[0m\u001b[1;33m=\u001b[0m\u001b[1;32mFalse\u001b[0m\u001b[1;33m)\u001b[0m\u001b[1;33m\u001b[0m\u001b[1;33m\u001b[0m\u001b[0m\n\u001b[0m",
      "\u001b[1;31mAttributeError\u001b[0m: 'XGBRegressor' object has no attribute 'get_fscore'"
     ]
    }
   ],
   "source": [
    "pd.DataFrame(xgbc_gpu.get_fscore().items(), columns=['feature','importance']).sort_values('importance', ascending=False)"
   ]
  },
  {
   "cell_type": "code",
   "execution_count": 47,
   "id": "71aa9153-f7c1-4189-9731-397ba9fcd8b4",
   "metadata": {},
   "outputs": [],
   "source": [
    "import shap"
   ]
  },
  {
   "cell_type": "code",
   "execution_count": 48,
   "id": "7bd03882-e83d-45ff-9262-efe5d0793de6",
   "metadata": {},
   "outputs": [
    {
     "name": "stderr",
     "output_type": "stream",
     "text": [
      "ntree_limit is deprecated, use `iteration_range` or model slicing instead.\n"
     ]
    },
    {
     "data": {
      "image/png": "[encoded data removed]",
      "text/plain": [
       "<Figure size 576x684 with 1 Axes>"
      ]
     },
     "metadata": {
      "needs_background": "light"
     },
     "output_type": "display_data"
    }
   ],
   "source": [
    "explainer = shap.TreeExplainer(xgbc_gpu)\n",
    "shap_values = explainer.shap_values(x_train)\n",
    "shap.summary_plot(shap_values, x_train, plot_type=\"bar\")"
   ]
  },
  {
   "cell_type": "code",
   "execution_count": 355,
   "id": "cf08c6a2-2715-4159-8452-a2700a87141f",
   "metadata": {},
   "outputs": [
    {
     "ename": "TypeError",
     "evalue": "'XGBRegressor' object is not subscriptable",
     "output_type": "error",
     "traceback": [
      "\u001b[1;31m---------------------------------------------------------------------------\u001b[0m",
      "\u001b[1;31mTypeError\u001b[0m                                 Traceback (most recent call last)",
      "\u001b[1;32m~\\AppData\\Local\\Temp/ipykernel_9544/2766686883.py\u001b[0m in \u001b[0;36m<module>\u001b[1;34m\u001b[0m\n\u001b[1;32m----> 1\u001b[1;33m \u001b[0mxgb\u001b[0m\u001b[1;33m.\u001b[0m\u001b[0mplot_importance\u001b[0m\u001b[1;33m(\u001b[0m\u001b[0mxgbc_gpu\u001b[0m\u001b[1;33m[\u001b[0m\u001b[1;36m10\u001b[0m\u001b[1;33m]\u001b[0m\u001b[1;33m,\u001b[0m \u001b[0mimportance_type\u001b[0m\u001b[1;33m=\u001b[0m\u001b[1;34m\"gain\"\u001b[0m\u001b[1;33m)\u001b[0m\u001b[1;33m\u001b[0m\u001b[1;33m\u001b[0m\u001b[0m\n\u001b[0m\u001b[0;32m      2\u001b[0m \u001b[0mplt\u001b[0m\u001b[1;33m.\u001b[0m\u001b[0mrcParams\u001b[0m\u001b[1;33m[\u001b[0m\u001b[1;34m'figure.figsize'\u001b[0m\u001b[1;33m]\u001b[0m \u001b[1;33m=\u001b[0m \u001b[1;33m[\u001b[0m\u001b[1;36m10\u001b[0m\u001b[1;33m,\u001b[0m \u001b[1;36m20\u001b[0m\u001b[1;33m]\u001b[0m\u001b[1;33m\u001b[0m\u001b[1;33m\u001b[0m\u001b[0m\n\u001b[0;32m      3\u001b[0m \u001b[0mplt\u001b[0m\u001b[1;33m.\u001b[0m\u001b[0mshow\u001b[0m\u001b[1;33m(\u001b[0m\u001b[1;33m)\u001b[0m\u001b[1;33m\u001b[0m\u001b[1;33m\u001b[0m\u001b[0m\n",
      "\u001b[1;31mTypeError\u001b[0m: 'XGBRegressor' object is not subscriptable"
     ]
    }
   ],
   "source": [
    "xgb.plot_importance(xgbc_gpu, importance_type=\"gain\")\n",
    "plt.rcParams['figure.figsize'] = [10, 20]\n",
    "plt.show()"
   ]
  },
  {
   "cell_type": "code",
   "execution_count": 22,
   "id": "9cf99c4c-8d70-43cc-8c3a-1d018a3f0f65",
   "metadata": {},
   "outputs": [],
   "source": [
    "parameters = {'nthread':[4], #when use hyperthread, xgboost may become slower\n",
    "              'objective':['reg:binomial'],\n",
    "              'learning_rate': [.03, 0.05, .07], #so called `eta` value\n",
    "              'max_depth': [4, 6, 8],\n",
    "              'min_child_weight': [4],\n",
    "              'silent': [1],\n",
    "              'subsample': [0.7],\n",
    "              'colsample_bytree': [0.7],\n",
    "              'n_estimators': [100,200,500]}\n",
    "\n",
    "xgb_grid = GridSearchCV(xgbc_gpu,\n",
    "                        parameters,\n",
    "                        cv = 2,\n",
    "                        n_jobs = 5,\n",
    "                        verbose=True)"
   ]
  },
  {
   "cell_type": "code",
   "execution_count": 24,
   "id": "5e55d268-739e-43d5-8055-896fa38cc1ec",
   "metadata": {},
   "outputs": [
    {
     "ename": "SyntaxError",
     "evalue": "invalid syntax (Temp/ipykernel_17316/2555352011.py, line 1)",
     "output_type": "error",
     "traceback": [
      "\u001b[1;36m  File \u001b[1;32m\"C:\\Users\\mrozo\\AppData\\Local\\Temp/ipykernel_17316/2555352011.py\"\u001b[1;36m, line \u001b[1;32m1\u001b[0m\n\u001b[1;33m    xgb_grid.fit(x_train,as.categorical(y_train))\u001b[0m\n\u001b[1;37m                         ^\u001b[0m\n\u001b[1;31mSyntaxError\u001b[0m\u001b[1;31m:\u001b[0m invalid syntax\n"
     ]
    }
   ],
   "source": [
    "xgb_grid.fit(x_train,categorical(y_train))"
   ]
  },
  {
   "cell_type": "code",
   "execution_count": null,
   "id": "7a7495e9-276e-40b1-8524-9be20890efe2",
   "metadata": {},
   "outputs": [],
   "source": [
    "print(xgb_grid.best_score_)\n",
    "print(xgb_grid.best_params_)"
   ]
  },
  {
   "cell_type": "code",
   "execution_count": null,
   "id": "1d66557c-c5a4-4f9a-90f9-a1e2359520d9",
   "metadata": {},
   "outputs": [],
   "source": [
    "#Graficar la importancia de las covariables\n",
    "sorted_idx=xgb_grid.best_estimator_.feature_importances_.argsort()\n",
    "nombres=np.array(X.columns)\n",
    "plt.figure(figsize=(10,13))\n",
    "plt.title(\"Xgboost importancia de las variables de los inmuebles\")\n",
    "plt.barh(nombres[sorted_idx], xgb_grid.best_estimator_.feature_importances_[sorted_idx])"
   ]
  },
  {
   "cell_type": "code",
   "execution_count": null,
   "id": "cfc26784-d8ba-490a-abaa-91120b9d7977",
   "metadata": {},
   "outputs": [],
   "source": [
    "xgb_grid.best_estimator_.feature_importances_"
   ]
  },
  {
   "cell_type": "markdown",
   "id": "3a8af847-1ce4-42bd-8d42-f284a5bca70c",
   "metadata": {
    "tags": []
   },
   "source": [
    "# el mejor Xgboost "
   ]
  },
  {
   "cell_type": "code",
   "execution_count": 93,
   "id": "2dba4750-2f09-4471-b16a-65ceee26d706",
   "metadata": {},
   "outputs": [],
   "source": [
    "## exportar las predicciones \n",
    "dentro_muestra= xgbc_gpu.predict(x_train)"
   ]
  },
  {
   "cell_type": "code",
   "execution_count": 94,
   "id": "20717af4-8155-4f59-a550-10dcc5d16260",
   "metadata": {},
   "outputs": [
    {
     "data": {
      "text/plain": [
       "array([3.8742248e-04, 2.1843561e-03, 3.1520043e-02, ..., 1.0009588e+00,\n",
       "       9.5173621e-01, 9.9904138e-01], dtype=float32)"
      ]
     },
     "execution_count": 94,
     "metadata": {},
     "output_type": "execute_result"
    }
   ],
   "source": [
    "dentro_muestra"
   ]
  },
  {
   "cell_type": "code",
   "execution_count": 95,
   "id": "76da9215-b32c-4f90-b3d3-c20b41f664ed",
   "metadata": {},
   "outputs": [],
   "source": [
    "fuera_muestra= xgbc_gpu.predict(x_test)"
   ]
  },
  {
   "cell_type": "code",
   "execution_count": 96,
   "id": "d9ccb6d3-b9a5-45e3-9e16-18a143b20fcb",
   "metadata": {},
   "outputs": [],
   "source": [
    "dentro_muestra = pd.DataFrame({'dentro_muestra': dentro_muestra.flatten(), 'real': y_train.squeeze()})"
   ]
  },
  {
   "cell_type": "code",
   "execution_count": 97,
   "id": "20626d0d-3e93-4285-978d-2f26825fc18e",
   "metadata": {},
   "outputs": [],
   "source": [
    "fuera_muestra = pd.DataFrame({'fuera_muestra': fuera_muestra.flatten(), 'real': y_test.squeeze()})"
   ]
  },
  {
   "cell_type": "code",
   "execution_count": 98,
   "id": "38803f90-f754-44ac-9e5e-e79262c70235",
   "metadata": {},
   "outputs": [],
   "source": [
    "dentro_muestra.to_csv(\"xgb_dentro_over.csv\")\n",
    "fuera_muestra.to_csv(\"xgb_fuera_over.csv\")"
   ]
  }
 ],
 "metadata": {
  "kernelspec": {
   "display_name": "Python 3 (ipykernel)",
   "language": "python",
   "name": "python3"
  },
  "language_info": {
   "codemirror_mode": {
    "name": "ipython",
    "version": 3
   },
   "file_extension": ".py",
   "mimetype": "text/x-python",
   "name": "python",
   "nbconvert_exporter": "python",
   "pygments_lexer": "ipython3",
   "version": "3.9.7"
  }
 },
 "nbformat": 4,
 "nbformat_minor": 5
}
